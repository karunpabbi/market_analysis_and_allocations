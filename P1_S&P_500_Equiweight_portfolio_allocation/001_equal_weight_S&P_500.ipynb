{
 "cells": [
  {
   "cell_type": "markdown",
   "metadata": {},
   "source": [
    "# Equal-Weight S&P 500 Index Fund\n",
    "\n",
    "## Introduction & Library Imports\n",
    "\n",
    "The S&P 500 is the world's most popular stock market index. The largest fund that is benchmarked to this index is the SPDR® S&P 500® ETF Trust. It has more than US$250 billion of assets under management.\n",
    "\n",
    "The goal of this section of the course is to create a Python script that will accept the value of your portfolio and tell you how many shares of each S&P 500 constituent you should purchase to get an equal-weight version of the index fund.\n",
    "\n",
    "## Library Imports\n",
    "\n",
    "The first thing we need to do is import the open-source software libraries that we'll be using in this tutorial."
   ]
  },
  {
   "cell_type": "code",
   "execution_count": 41,
   "metadata": {},
   "outputs": [],
   "source": [
    "import numpy as np\n",
    "import pandas as pd\n",
    "import requests\n",
    "import xlsxwriter\n",
    "import math"
   ]
  },
  {
   "cell_type": "markdown",
   "metadata": {},
   "source": [
    "## Importing Our List of Stocks\n",
    "\n",
    "The next thing we need to do is import the constituents of the S&P 500.\n",
    "\n",
    "These constituents change over time, so in an ideal world you would connect directly to the index provider (Standard & Poor's) and pull their real-time constituents on a regular basis.\n",
    "\n",
    "Paying for access to the index provider's API is outside of the scope of this course. \n",
    "\n",
    "There's a static version of the S&P 500 constituents available here. [Click this link to download them now](https://drive.google.com/file/d/1ZJSpbY69DVckVZlO9cC6KkgfSufybcHN/view?usp=sharing). Move this file into the `starter-files` folder so it can be accessed by other files in that directory.\n",
    "\n",
    "Now it's time to import these stocks to our Jupyter Notebook file."
   ]
  },
  {
   "cell_type": "code",
   "execution_count": 42,
   "metadata": {},
   "outputs": [],
   "source": [
    "stocks = pd.read_csv(\"sp_500_stocks.csv\")"
   ]
  },
  {
   "cell_type": "code",
   "execution_count": 43,
   "metadata": {},
   "outputs": [],
   "source": [
    "from secrets import IEX_CLOUD_API_TOKEN"
   ]
  },
  {
   "cell_type": "markdown",
   "metadata": {},
   "source": [
    "## Making Our First API Call\n",
    "\n",
    "Now it's time to structure our API calls to IEX cloud. \n",
    "\n",
    "We need the following information from the API:\n",
    "\n",
    "* Market capitalization for each stock\n",
    "* Price of each stock\n",
    "\n"
   ]
  },
  {
   "cell_type": "code",
   "execution_count": 44,
   "metadata": {},
   "outputs": [
    {
     "name": "stdout",
     "output_type": "stream",
     "text": [
      "{'avgTotalVolume': 93375466, 'calculationPrice': 'close', 'change': -1.92, 'changePercent': -0.01172, 'close': 161.84, 'closeSource': 'official', 'closeTime': 1638565201109, 'companyName': 'Apple Inc', 'currency': 'USD', 'delayedPrice': 161.89, 'delayedPriceTime': 1638565197919, 'extendedChange': -0.59, 'extendedChangePercent': -0.00365, 'extendedPrice': 161.25, 'extendedPriceTime': 1638579599836, 'high': 164.96, 'highSource': '15 minute delayed price', 'highTime': 1638565200116, 'iexAskPrice': None, 'iexAskSize': None, 'iexBidPrice': None, 'iexBidSize': None, 'iexClose': 161.91, 'iexCloseTime': 1638565197063, 'iexLastUpdated': None, 'iexMarketPercent': None, 'iexOpen': 164.015, 'iexOpenTime': 1638541800133, 'iexRealtimePrice': None, 'iexRealtimeSize': None, 'iexVolume': None, 'lastTradeTime': 1638565229890, 'latestPrice': 161.84, 'latestSource': 'Close', 'latestTime': 'December 3, 2021', 'latestUpdate': 1638565201109, 'latestVolume': 118023116, 'low': 159.72, 'lowSource': '15 minute delayed price', 'lowTime': 1638561659938, 'marketCap': 2655211290480, 'oddLotDelayedPrice': 161.84, 'oddLotDelayedPriceTime': 1638565198062, 'open': 163.95, 'openTime': 1638541801858, 'openSource': 'official', 'peRatio': 14.41, 'previousClose': 163.76, 'previousVolume': 136739174, 'primaryExchange': 'NASDAQ', 'symbol': 'AAPL', 'volume': 118023116, 'week52High': 170.3, 'week52Low': 115.67, 'ytdChange': 0.21548413718844078, 'isUSMarketOpen': False}\n"
     ]
    }
   ],
   "source": [
    "symbol=\"AAPL\"\n",
    "api_url=\"https://cloud.iexapis.com/stable\"\n",
    "later_url=f\"/stock/{symbol}/quote?token={IEX_CLOUD_API_TOKEN}\"\n",
    "data=requests.get(api_url+later_url).json()\n",
    "print(data)"
   ]
  },
  {
   "cell_type": "markdown",
   "metadata": {},
   "source": [
    "## Parsing Our API Call\n",
    "\n",
    "The API call that we executed in the last code block contains all of the information required to build our equal-weight S&P 500 strategy. \n",
    "\n",
    "With that said, the data isn't in a proper format yet. We need to parse it first."
   ]
  },
  {
   "cell_type": "code",
   "execution_count": 45,
   "metadata": {},
   "outputs": [],
   "source": [
    "price=data['latestPrice']\n",
    "mcap=data['marketCap']"
   ]
  },
  {
   "cell_type": "markdown",
   "metadata": {},
   "source": [
    "## Acquiring an API Token\n",
    "\n",
    "Now it's time to import our IEX Cloud API token. This is the data provider that we will be using throughout this course.\n",
    "\n",
    "API tokens (and other sensitive information) should be stored in a `secrets.py` file that doesn't get pushed to your local Git repository. We'll be using a sandbox API token in this course, which means that the data we'll use is randomly-generated and (more importantly) has no cost associated with it.\n",
    "\n",
    "[Click here](http://nickmccullum.com/algorithmic-trading-python/secrets.py) to download your `secrets.py` file. Move the file into the same directory as this Jupyter Notebook before proceeding."
   ]
  },
  {
   "cell_type": "markdown",
   "metadata": {},
   "source": [
    "## Adding Our Stocks Data to a Pandas DataFrame\n",
    "\n",
    "The next thing we need to do is add our stock's price and market capitalization to a pandas DataFrame. Think of a DataFrame like the Python version of a spreadsheet. It stores tabular data."
   ]
  },
  {
   "cell_type": "code",
   "execution_count": 46,
   "metadata": {},
   "outputs": [],
   "source": [
    "my_columns = ['Ticker','Stock Price','Market Cap','Number of Shares to Buy']"
   ]
  },
  {
   "cell_type": "code",
   "execution_count": 47,
   "metadata": {},
   "outputs": [],
   "source": [
    "resultant_dataframe = pd.DataFrame(columns=my_columns)"
   ]
  },
  {
   "cell_type": "markdown",
   "metadata": {},
   "source": [
    "## Looping Through The Tickers in Our List of Stocks\n",
    "\n",
    "Using the same logic that we outlined above, we can pull data for all S&P 500 stocks and store their data in the DataFrame using a `for` loop."
   ]
  },
  {
   "cell_type": "code",
   "execution_count": 48,
   "metadata": {},
   "outputs": [],
   "source": [
    "for stock in stocks['Ticker']:\n",
    "    symbol=stock\n",
    "    url=api_url+later_url\n",
    "    data =  requests.get(url).json()\n",
    "    resultant_dataframe = resultant_dataframe.append(\n",
    "        pd.Series([symbol,data['latestPrice'],data['marketCap'],'N/A'],index=my_columns),ignore_index=True\n",
    "    )"
   ]
  },
  {
   "cell_type": "code",
   "execution_count": 49,
   "metadata": {},
   "outputs": [
    {
     "name": "stdout",
     "output_type": "stream",
     "text": [
      "    Ticker  Stock Price     Market Cap Number of Shares to Buy\n",
      "0        A       161.84  2655211290480                     N/A\n",
      "1      AAL       161.84  2655211290480                     N/A\n",
      "2      AAP       161.84  2655211290480                     N/A\n",
      "3     AAPL       161.84  2655211290480                     N/A\n",
      "4     ABBV       161.84  2655211290480                     N/A\n",
      "..     ...          ...            ...                     ...\n",
      "500    YUM       161.84  2655211290480                     N/A\n",
      "501    ZBH       161.84  2655211290480                     N/A\n",
      "502   ZBRA       161.84  2655211290480                     N/A\n",
      "503   ZION       161.84  2655211290480                     N/A\n",
      "504    ZTS       161.84  2655211290480                     N/A\n",
      "\n",
      "[505 rows x 4 columns]\n"
     ]
    }
   ],
   "source": [
    "print(resultant_dataframe)"
   ]
  },
  {
   "cell_type": "markdown",
   "metadata": {},
   "source": [
    "## Using Batch API Calls to Improve Performance\n",
    "\n",
    "Batch API calls are one of the easiest ways to improve the performance of your code.\n",
    "\n",
    "This is because HTTP requests are typically one of the slowest components of a script.\n",
    "\n",
    "Also, API providers will often give you discounted rates for using batch API calls since they are easier for the API provider to respond to.\n",
    "\n",
    "IEX Cloud limits their batch API calls to 100 tickers per request. Still, this reduces the number of API calls we'll make in this section from 500 to 5 - huge improvement! In this section, we'll split our list of stocks into groups of 100 and then make a batch API call for each group."
   ]
  },
  {
   "cell_type": "code",
   "execution_count": 50,
   "metadata": {},
   "outputs": [
    {
     "name": "stdout",
     "output_type": "stream",
     "text": [
      "[0         A\n",
      "1       AAL\n",
      "2       AAP\n",
      "3      AAPL\n",
      "4      ABBV\n",
      "      ...  \n",
      "95     CINF\n",
      "96       CL\n",
      "97      CLX\n",
      "98      CMA\n",
      "99    CMCSA\n",
      "Name: Ticker, Length: 100, dtype: object, 100     CME\n",
      "101     CMG\n",
      "102     CMI\n",
      "103     CMS\n",
      "104     CNC\n",
      "       ... \n",
      "195    FTNT\n",
      "196     FTV\n",
      "197      GD\n",
      "198      GE\n",
      "199    GILD\n",
      "Name: Ticker, Length: 100, dtype: object, 200     GIS\n",
      "201      GL\n",
      "202     GLW\n",
      "203      GM\n",
      "204    GOOG\n",
      "       ... \n",
      "295     MAA\n",
      "296     MAR\n",
      "297     MAS\n",
      "298     MCD\n",
      "299    MCHP\n",
      "Name: Ticker, Length: 100, dtype: object, 300     MCK\n",
      "301     MCO\n",
      "302    MDLZ\n",
      "303     MDT\n",
      "304     MET\n",
      "       ... \n",
      "395     RHI\n",
      "396     RJF\n",
      "397      RL\n",
      "398     RMD\n",
      "399     ROK\n",
      "Name: Ticker, Length: 100, dtype: object, 400     ROL\n",
      "401     ROP\n",
      "402    ROST\n",
      "403     RSG\n",
      "404     RTX\n",
      "       ... \n",
      "495    XLNX\n",
      "496     XOM\n",
      "497    XRAY\n",
      "498     XRX\n",
      "499     XYL\n",
      "Name: Ticker, Length: 100, dtype: object, 500     YUM\n",
      "501     ZBH\n",
      "502    ZBRA\n",
      "503    ZION\n",
      "504     ZTS\n",
      "Name: Ticker, dtype: object]\n",
      "['A,AAL,AAP,AAPL,ABBV,ABC,ABMD,ABT,ACN,ADBE,ADI,ADM,ADP,ADSK,AEE,AEP,AES,AFL,AIG,AIV,AIZ,AJG,AKAM,ALB,ALGN,ALK,ALL,ALLE,ALXN,AMAT,AMCR,AMD,AME,AMGN,AMP,AMT,AMZN,ANET,ANSS,ANTM,AON,AOS,APA,APD,APH,APTV,ARE,ATO,ATVI,AVB,AVGO,AVY,AWK,AXP,AZO,BA,BAC,BAX,BBY,BDX,BEN,BF.B,BIIB,BIO,BK,BKNG,BKR,BLK,BLL,BMY,BR,BRK.B,BSX,BWA,BXP,C,CAG,CAH,CARR,CAT,CB,CBOE,CBRE,CCI,CCL,CDNS,CDW,CE,CERN,CF,CFG,CHD,CHRW,CHTR,CI,CINF,CL,CLX,CMA,CMCSA', 'CME,CMG,CMI,CMS,CNC,CNP,COF,COG,COO,COP,COST,COTY,CPB,CPRT,CRM,CSCO,CSX,CTAS,CTL,CTSH,CTVA,CTXS,CVS,CVX,CXO,D,DAL,DD,DE,DFS,DG,DGX,DHI,DHR,DIS,DISCA,DISCK,DISH,DLR,DLTR,DOV,DOW,DPZ,DRE,DRI,DTE,DUK,DVA,DVN,DXC,DXCM,EA,EBAY,ECL,ED,EFX,EIX,EL,EMN,EMR,EOG,EQIX,EQR,ES,ESS,ETFC,ETN,ETR,EVRG,EW,EXC,EXPD,EXPE,EXR,F,FANG,FAST,FB,FBHS,FCX,FDX,FE,FFIV,FIS,FISV,FITB,FLIR,FLS,FLT,FMC,FOX,FOXA,FRC,FRT,FTI,FTNT,FTV,GD,GE,GILD', 'GIS,GL,GLW,GM,GOOG,GOOGL,GPC,GPN,GPS,GRMN,GS,GWW,HAL,HAS,HBAN,HBI,HCA,HD,HES,HFC,HIG,HII,HLT,HOLX,HON,HPE,HPQ,HRB,HRL,HSIC,HST,HSY,HUM,HWM,IBM,ICE,IDXX,IEX,IFF,ILMN,INCY,INFO,INTC,INTU,IP,IPG,IPGP,IQV,IR,IRM,ISRG,IT,ITW,IVZ,J,JBHT,JCI,JKHY,JNJ,JNPR,JPM,K,KEY,KEYS,KHC,KIM,KLAC,KMB,KMI,KMX,KO,KR,KSS,KSU,L,LB,LDOS,LEG,LEN,LH,LHX,LIN,LKQ,LLY,LMT,LNC,LNT,LOW,LRCX,LUV,LVS,LW,LYB,LYV,MA,MAA,MAR,MAS,MCD,MCHP', 'MCK,MCO,MDLZ,MDT,MET,MGM,MHK,MKC,MKTX,MLM,MMC,MMM,MNST,MO,MOS,MPC,MRK,MRO,MS,MSCI,MSFT,MSI,MTB,MTD,MU,MXIM,MYL,NBL,NCLH,NDAQ,NEE,NEM,NFLX,NI,NKE,NLOK,NLSN,NOC,NOV,NOW,NRG,NSC,NTAP,NTRS,NUE,NVDA,NVR,NWL,NWS,NWSA,O,ODFL,OKE,OMC,ORCL,ORLY,OTIS,OXY,PAYC,PAYX,PBCT,PCAR,PEAK,PEG,PEP,PFE,PFG,PG,PGR,PH,PHM,PKG,PKI,PLD,PM,PNC,PNR,PNW,PPG,PPL,PRGO,PRU,PSA,PSX,PVH,PWR,PXD,PYPL,QCOM,QRVO,RCL,RE,REG,REGN,RF,RHI,RJF,RL,RMD,ROK', 'ROL,ROP,ROST,RSG,RTX,SBAC,SBUX,SCHW,SEE,SHW,SIVB,SJM,SLB,SLG,SNA,SNPS,SO,SPG,SPGI,SRE,STE,STT,STX,STZ,SWK,SWKS,SYF,SYK,SYY,T,TAP,TDG,TDY,TEL,TFC,TFX,TGT,TIF,TJX,TMO,TMUS,TPR,TROW,TRV,TSCO,TSN,TT,TTWO,TWTR,TXN,TXT,TYL,UA,UAA,UAL,UDR,UHS,ULTA,UNH,UNM,UNP,UPS,URI,USB,V,VAR,VFC,VIAC,VLO,VMC,VNO,VRSK,VRSN,VRTX,VTR,VZ,WAB,WAT,WBA,WDC,WEC,WELL,WFC,WHR,WLTW,WM,WMB,WMT,WRB,WRK,WST,WU,WY,WYNN,XEL,XLNX,XOM,XRAY,XRX,XYL', 'YUM,ZBH,ZBRA,ZION,ZTS']\n"
     ]
    }
   ],
   "source": [
    "def chunks(lst,n):\n",
    "    for i in range(0,len(lst),n):\n",
    "        yield lst[i:i+n]\n",
    "        \n",
    "symbol_groups = list(chunks(stocks['Ticker'],100))\n",
    "\n",
    "print(symbol_groups)\n",
    "\n",
    "symbol_strings = []\n",
    "\n",
    "for i in range(len(symbol_groups)):\n",
    "    symbol_strings.append(','.join(symbol_groups[i]))\n",
    "    \n",
    "print(symbol_strings)"
   ]
  },
  {
   "cell_type": "code",
   "execution_count": 51,
   "metadata": {},
   "outputs": [
    {
     "name": "stdout",
     "output_type": "stream",
     "text": [
      "    Ticker  Stock Price     Market Cap Number of Shares to Buy\n",
      "0        A       149.33    45205576012                     N/A\n",
      "1      AAL        16.62    10760749151                     N/A\n",
      "2      AAP       226.86    14145895454                     N/A\n",
      "3     AAPL       161.84  2655211290480                     N/A\n",
      "4     ABBV       118.85   210028811978                     N/A\n",
      "..     ...          ...            ...                     ...\n",
      "500    YUM       124.83    36591805247                     N/A\n",
      "501    ZBH       121.22    25323828730                     N/A\n",
      "502   ZBRA       588.29    31439094740                     N/A\n",
      "503   ZION        61.91     9686652994                     N/A\n",
      "504    ZTS       223.33   105663189827                     N/A\n",
      "\n",
      "[505 rows x 4 columns]\n"
     ]
    }
   ],
   "source": [
    "resultant_dataframe = pd.DataFrame(columns=my_columns)\n",
    "\n",
    "for symbol_string in symbol_strings:\n",
    "    batch_api_call = f\"/stock/market/batch?symbols={symbol_string}&types=quote&token={IEX_CLOUD_API_TOKEN}\"\n",
    "    data=requests.get(api_url+batch_api_call).json()\n",
    "    #print(batch_api_call+\"\\n\")\n",
    "    #print(data)\n",
    "    \n",
    "    for symbol in symbol_string.split(','):\n",
    "        resultant_dataframe = resultant_dataframe.append(\n",
    "            pd.Series(\n",
    "                [\n",
    "                    symbol,\n",
    "                    data[symbol]['quote']['latestPrice'],\n",
    "                    data[symbol]['quote']['marketCap'],\n",
    "                    'N/A'\n",
    "                ],index=my_columns\n",
    "            ),ignore_index=True\n",
    "        )\n",
    "\n",
    "print(resultant_dataframe)"
   ]
  },
  {
   "cell_type": "markdown",
   "metadata": {},
   "source": [
    "## Calculating the Number of Shares to Buy\n",
    "\n",
    "As you can see in the DataFrame above, we stil haven't calculated the number of shares of each stock to buy.\n",
    "\n",
    "We'll do that next."
   ]
  },
  {
   "cell_type": "code",
   "execution_count": 52,
   "metadata": {},
   "outputs": [
    {
     "name": "stdout",
     "output_type": "stream",
     "text": [
      "Enter the value you want to invest140000\n",
      "277.2277227722772\n"
     ]
    }
   ],
   "source": [
    "portfolio_size=input(\"Enter the value you want to invest\")\n",
    "try:\n",
    "    val=float(portfolio_size)\n",
    "except ValueError:\n",
    "    print(\"Please Enter an Integer/Numeric Value\")\n",
    "    \n",
    "position_size = val/len(resultant_dataframe.index)\n",
    "print(position_size)"
   ]
  },
  {
   "cell_type": "code",
   "execution_count": 53,
   "metadata": {},
   "outputs": [
    {
     "name": "stdout",
     "output_type": "stream",
     "text": [
      "    Ticker  Stock Price     Market Cap Number of Shares to Buy\n",
      "0        A       149.33    45205576012                       1\n",
      "1      AAL        16.62    10760749151                      16\n",
      "2      AAP       226.86    14145895454                       1\n",
      "3     AAPL       161.84  2655211290480                       1\n",
      "4     ABBV       118.85   210028811978                       2\n",
      "..     ...          ...            ...                     ...\n",
      "500    YUM       124.83    36591805247                       2\n",
      "501    ZBH       121.22    25323828730                       2\n",
      "502   ZBRA       588.29    31439094740                       0\n",
      "503   ZION        61.91     9686652994                       4\n",
      "504    ZTS       223.33   105663189827                       1\n",
      "\n",
      "[505 rows x 4 columns]\n"
     ]
    }
   ],
   "source": [
    "for i in range(len(resultant_dataframe.index)):\n",
    "    resultant_dataframe.loc[i,\"Number of Shares to Buy\"] = math.floor(position_size/resultant_dataframe.loc[i,\"Stock Price\"])\n",
    "    \n",
    "print(resultant_dataframe)"
   ]
  },
  {
   "cell_type": "markdown",
   "metadata": {},
   "source": [
    "## Formatting Our Excel Output\n",
    "\n",
    "We will be using the XlsxWriter library for Python to create nicely-formatted Excel files.\n",
    "\n",
    "XlsxWriter is an excellent package and offers tons of customization. However, the tradeoff for this is that the library can seem very complicated to new users. Accordingly, this section will be fairly long because I want to do a good job of explaining how XlsxWriter works.\n",
    "\n",
    "### Initializing our XlsxWriter Object"
   ]
  },
  {
   "cell_type": "code",
   "execution_count": 54,
   "metadata": {},
   "outputs": [],
   "source": [
    "writer = pd.ExcelWriter('recommended_allocations.xlsx',engine='xlsxwriter')\n",
    "\n",
    "resultant_dataframe.to_excel(writer, \"Recommended Allocations\",index = False)\n",
    "background_color = '#0a0a23'\n",
    "font_color = '#ffffff'\n",
    "\n",
    "string_format = writer.book.add_format(\n",
    "    {\n",
    "        'font_color':font_color,\n",
    "        'bg_color':background_color,\n",
    "        'border':1\n",
    "    }\n",
    ")\n",
    "\n",
    "dollar_format = writer.book.add_format(\n",
    "    {\n",
    "        'num_format':'$0.00',\n",
    "        'font_color':font_color,\n",
    "        'bg_color':background_color,\n",
    "        'border':1\n",
    "    }\n",
    ")\n",
    "\n",
    "integer_format = writer.book.add_format(\n",
    "    {\n",
    "        'num_format':'0',\n",
    "        'font_color':font_color,\n",
    "        'bg_color':background_color,\n",
    "        'border':1\n",
    "    }\n",
    ")"
   ]
  },
  {
   "cell_type": "markdown",
   "metadata": {},
   "source": [
    "### Creating the Formats We'll Need For Our `.xlsx` File\n",
    "\n",
    "Formats include colors, fonts, and also symbols like `%` and `$`. We'll need four main formats for our Excel document:\n",
    "* String format for tickers\n",
    "* \\\\$XX.XX format for stock prices\n",
    "* \\\\$XX,XXX format for market capitalization\n",
    "* Integer format for the number of shares to purchase"
   ]
  },
  {
   "cell_type": "code",
   "execution_count": 55,
   "metadata": {},
   "outputs": [],
   "source": [
    "column_format = {\n",
    "    'A':['Ticker',string_format],\n",
    "    'B':['Ticker',dollar_format],\n",
    "    'C':['Ticker',dollar_format],\n",
    "    'D':['Ticker',integer_format],\n",
    "}"
   ]
  },
  {
   "cell_type": "markdown",
   "metadata": {},
   "source": [
    "### Applying the Formats to the Columns of Our `.xlsx` File\n",
    "\n",
    "We can use the `set_column` method applied to the `writer.sheets['Recommended Trades']` object to apply formats to specific columns of our spreadsheets.\n",
    "\n",
    "Here's an example:\n",
    "\n",
    "```python\n",
    "writer.sheets['Recommended Trades'].set_column('B:B', #This tells the method to apply the format to column B\n",
    "                     18, #This tells the method to apply a column width of 18 pixels\n",
    "                     string_template #This applies the format 'string_template' to the column\n",
    "                    )\n",
    "```"
   ]
  },
  {
   "cell_type": "code",
   "execution_count": 56,
   "metadata": {},
   "outputs": [],
   "source": [
    "for column in column_format.keys():\n",
    "    writer.sheets['Recommended Allocations'].set_column(f\"{column}:{column}\",18,column_format[column][1])"
   ]
  },
  {
   "cell_type": "markdown",
   "metadata": {},
   "source": [
    "This code works, but it violates the software principle of \"Don't Repeat Yourself\". \n",
    "\n",
    "Let's simplify this by putting it in 2 loops:"
   ]
  },
  {
   "cell_type": "code",
   "execution_count": null,
   "metadata": {},
   "outputs": [],
   "source": []
  },
  {
   "cell_type": "markdown",
   "metadata": {},
   "source": [
    "## Saving Our Excel Output\n",
    "\n",
    "Saving our Excel file is very easy:"
   ]
  },
  {
   "cell_type": "code",
   "execution_count": 57,
   "metadata": {},
   "outputs": [],
   "source": [
    "writer.save()"
   ]
  },
  {
   "cell_type": "code",
   "execution_count": null,
   "metadata": {},
   "outputs": [],
   "source": []
  },
  {
   "cell_type": "code",
   "execution_count": null,
   "metadata": {},
   "outputs": [],
   "source": []
  },
  {
   "cell_type": "code",
   "execution_count": null,
   "metadata": {},
   "outputs": [],
   "source": []
  },
  {
   "cell_type": "code",
   "execution_count": null,
   "metadata": {},
   "outputs": [],
   "source": []
  }
 ],
 "metadata": {
  "kernelspec": {
   "display_name": "Python 3",
   "language": "python",
   "name": "python3"
  },
  "language_info": {
   "codemirror_mode": {
    "name": "ipython",
    "version": 3
   },
   "file_extension": ".py",
   "mimetype": "text/x-python",
   "name": "python",
   "nbconvert_exporter": "python",
   "pygments_lexer": "ipython3",
   "version": "3.8.8"
  }
 },
 "nbformat": 4,
 "nbformat_minor": 4
}
